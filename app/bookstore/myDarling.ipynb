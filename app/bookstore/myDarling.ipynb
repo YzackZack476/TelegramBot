{
 "cells": [
  {
   "cell_type": "code",
   "execution_count": 11,
   "metadata": {},
   "outputs": [],
   "source": [
    "import pandas as pd\n",
    "import numpy as np\n",
    "import time\n",
    "from datetime import datetime"
   ]
  },
  {
   "cell_type": "code",
   "execution_count": 7,
   "metadata": {},
   "outputs": [],
   "source": [
    "dias = {\n",
    "    \"Mon\" : \"Lunes\",\n",
    "    \"Tue\" : \"Martes\",\n",
    "    \"Wed\" : \"Miercoles\",\n",
    "    \"Thu\" : \"Jueves\",\n",
    "    \"Fri\" : \"Viernes\",\n",
    "    \"Sat\" : \"Sabado\",\n",
    "    \"Sun\" : \"Domingo\"\n",
    "}\n",
    "\n",
    "meses = {\n",
    "    \"Jan\" : \"Enero\",\n",
    "    \"Feb\" : \"Febrero\",\n",
    "    \"Mar\" : \"Marzo\",\n",
    "    \"Apr\" : \"Abril\",\n",
    "    \"May\" : \"Mayo\",\n",
    "    \"Jun\" : \"Junio\",\n",
    "    \"Jul\" : \"Julio\",\n",
    "    \"Aug\" : \"Agosto\",\n",
    "    \"Sep\" : \"Septiembre\",\n",
    "    \"Oct\" : \"Octubre\",\n",
    "    \"Nov\" : \"Noviembre\",\n",
    "    \"Dec\" : \"Diciembre\"\n",
    "}"
   ]
  },
  {
   "cell_type": "code",
   "execution_count": 20,
   "metadata": {},
   "outputs": [],
   "source": [
    "# Obtener Fecha actual\n",
    "date_object = datetime.today()"
   ]
  },
  {
   "cell_type": "code",
   "execution_count": 19,
   "metadata": {},
   "outputs": [],
   "source": [
    "now = datetime.today().strftime('%Y-%m-%d %I:%M:%S %p')"
   ]
  },
  {
   "cell_type": "code",
   "execution_count": 26,
   "metadata": {},
   "outputs": [],
   "source": [
    "fecha = time.ctime().split()"
   ]
  }
 ],
 "metadata": {
  "interpreter": {
   "hash": "483c7b4fa6b05d95ea38ee5b440826fd8ca5a554d66da7404827c1725c84f06e"
  },
  "kernelspec": {
   "display_name": "Python 3.10.0 64-bit",
   "language": "python",
   "name": "python3"
  },
  "language_info": {
   "codemirror_mode": {
    "name": "ipython",
    "version": 3
   },
   "file_extension": ".py",
   "mimetype": "text/x-python",
   "name": "python",
   "nbconvert_exporter": "python",
   "pygments_lexer": "ipython3",
   "version": "3.10.0"
  },
  "orig_nbformat": 4
 },
 "nbformat": 4,
 "nbformat_minor": 2
}
